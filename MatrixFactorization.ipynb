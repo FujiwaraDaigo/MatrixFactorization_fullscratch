{
 "cells": [
  {
   "cell_type": "markdown",
   "metadata": {},
   "source": [
    "# Matrix Factorization\n",
    "\n",
    "## name: Fujiwara Daigo(藤原大悟)\n",
    "## student number: 6930-31-6255\n",
    "## date: 7/27/2019"
   ]
  },
  {
   "cell_type": "markdown",
   "metadata": {},
   "source": [
    "## 1. About  the Data\n",
    "\n",
    "The data is from a part of “EachMovie” dataset\n",
    "(http://www.cs.cmu.edu/~lebanon/IR-lab/data.html)\n",
    "\n",
    "Analyze the rating data of 1623 movies by 1000 users.\n",
    "\n",
    "Make a recommendation system to offer best movies for each user by matrix factorization.\n",
    "\n",
    "The data is like bellow:"
   ]
  },
  {
   "cell_type": "code",
   "execution_count": 1,
   "metadata": {},
   "outputs": [],
   "source": [
    "import pandas as pd\n",
    "import matplotlib.pyplot as plt\n",
    "import numpy as np\n",
    "import warnings\n",
    "warnings.simplefilter(action='ignore', category=FutureWarning)"
   ]
  },
  {
   "cell_type": "code",
   "execution_count": 2,
   "metadata": {},
   "outputs": [
    {
     "name": "stdout",
     "output_type": "stream",
     "text": [
      "(row,col)= (1000, 1623)\n"
     ]
    },
    {
     "data": {
      "text/html": [
       "<div>\n",
       "<style scoped>\n",
       "    .dataframe tbody tr th:only-of-type {\n",
       "        vertical-align: middle;\n",
       "    }\n",
       "\n",
       "    .dataframe tbody tr th {\n",
       "        vertical-align: top;\n",
       "    }\n",
       "\n",
       "    .dataframe thead th {\n",
       "        text-align: right;\n",
       "    }\n",
       "</style>\n",
       "<table border=\"1\" class=\"dataframe\">\n",
       "  <thead>\n",
       "    <tr style=\"text-align: right;\">\n",
       "      <th></th>\n",
       "      <th>0</th>\n",
       "      <th>1</th>\n",
       "      <th>2</th>\n",
       "      <th>3</th>\n",
       "      <th>4</th>\n",
       "      <th>5</th>\n",
       "      <th>6</th>\n",
       "      <th>7</th>\n",
       "      <th>8</th>\n",
       "      <th>9</th>\n",
       "      <th>...</th>\n",
       "      <th>1613</th>\n",
       "      <th>1614</th>\n",
       "      <th>1615</th>\n",
       "      <th>1616</th>\n",
       "      <th>1617</th>\n",
       "      <th>1618</th>\n",
       "      <th>1619</th>\n",
       "      <th>1620</th>\n",
       "      <th>1621</th>\n",
       "      <th>1622</th>\n",
       "    </tr>\n",
       "  </thead>\n",
       "  <tbody>\n",
       "    <tr>\n",
       "      <th>0</th>\n",
       "      <td>0</td>\n",
       "      <td>0</td>\n",
       "      <td>0</td>\n",
       "      <td>0</td>\n",
       "      <td>0</td>\n",
       "      <td>0</td>\n",
       "      <td>4</td>\n",
       "      <td>0</td>\n",
       "      <td>0</td>\n",
       "      <td>0</td>\n",
       "      <td>...</td>\n",
       "      <td>0</td>\n",
       "      <td>0</td>\n",
       "      <td>0</td>\n",
       "      <td>0</td>\n",
       "      <td>0</td>\n",
       "      <td>0</td>\n",
       "      <td>0</td>\n",
       "      <td>0</td>\n",
       "      <td>0</td>\n",
       "      <td>0</td>\n",
       "    </tr>\n",
       "    <tr>\n",
       "      <th>1</th>\n",
       "      <td>2</td>\n",
       "      <td>0</td>\n",
       "      <td>0</td>\n",
       "      <td>0</td>\n",
       "      <td>0</td>\n",
       "      <td>6</td>\n",
       "      <td>5</td>\n",
       "      <td>0</td>\n",
       "      <td>0</td>\n",
       "      <td>0</td>\n",
       "      <td>...</td>\n",
       "      <td>0</td>\n",
       "      <td>0</td>\n",
       "      <td>0</td>\n",
       "      <td>0</td>\n",
       "      <td>0</td>\n",
       "      <td>0</td>\n",
       "      <td>0</td>\n",
       "      <td>0</td>\n",
       "      <td>0</td>\n",
       "      <td>0</td>\n",
       "    </tr>\n",
       "    <tr>\n",
       "      <th>2</th>\n",
       "      <td>0</td>\n",
       "      <td>0</td>\n",
       "      <td>0</td>\n",
       "      <td>0</td>\n",
       "      <td>0</td>\n",
       "      <td>0</td>\n",
       "      <td>5</td>\n",
       "      <td>0</td>\n",
       "      <td>0</td>\n",
       "      <td>0</td>\n",
       "      <td>...</td>\n",
       "      <td>0</td>\n",
       "      <td>0</td>\n",
       "      <td>0</td>\n",
       "      <td>0</td>\n",
       "      <td>0</td>\n",
       "      <td>0</td>\n",
       "      <td>0</td>\n",
       "      <td>0</td>\n",
       "      <td>0</td>\n",
       "      <td>0</td>\n",
       "    </tr>\n",
       "    <tr>\n",
       "      <th>3</th>\n",
       "      <td>0</td>\n",
       "      <td>0</td>\n",
       "      <td>4</td>\n",
       "      <td>0</td>\n",
       "      <td>0</td>\n",
       "      <td>0</td>\n",
       "      <td>6</td>\n",
       "      <td>0</td>\n",
       "      <td>0</td>\n",
       "      <td>0</td>\n",
       "      <td>...</td>\n",
       "      <td>0</td>\n",
       "      <td>0</td>\n",
       "      <td>0</td>\n",
       "      <td>0</td>\n",
       "      <td>0</td>\n",
       "      <td>0</td>\n",
       "      <td>0</td>\n",
       "      <td>0</td>\n",
       "      <td>0</td>\n",
       "      <td>0</td>\n",
       "    </tr>\n",
       "    <tr>\n",
       "      <th>4</th>\n",
       "      <td>0</td>\n",
       "      <td>2</td>\n",
       "      <td>0</td>\n",
       "      <td>0</td>\n",
       "      <td>0</td>\n",
       "      <td>0</td>\n",
       "      <td>0</td>\n",
       "      <td>0</td>\n",
       "      <td>4</td>\n",
       "      <td>0</td>\n",
       "      <td>...</td>\n",
       "      <td>0</td>\n",
       "      <td>0</td>\n",
       "      <td>0</td>\n",
       "      <td>0</td>\n",
       "      <td>0</td>\n",
       "      <td>0</td>\n",
       "      <td>0</td>\n",
       "      <td>0</td>\n",
       "      <td>0</td>\n",
       "      <td>0</td>\n",
       "    </tr>\n",
       "  </tbody>\n",
       "</table>\n",
       "<p>5 rows × 1623 columns</p>\n",
       "</div>"
      ],
      "text/plain": [
       "   0     1     2     3     4     5     6     7     8     9     ...  1613  \\\n",
       "0     0     0     0     0     0     0     4     0     0     0  ...     0   \n",
       "1     2     0     0     0     0     6     5     0     0     0  ...     0   \n",
       "2     0     0     0     0     0     0     5     0     0     0  ...     0   \n",
       "3     0     0     4     0     0     0     6     0     0     0  ...     0   \n",
       "4     0     2     0     0     0     0     0     0     4     0  ...     0   \n",
       "\n",
       "   1614  1615  1616  1617  1618  1619  1620  1621  1622  \n",
       "0     0     0     0     0     0     0     0     0     0  \n",
       "1     0     0     0     0     0     0     0     0     0  \n",
       "2     0     0     0     0     0     0     0     0     0  \n",
       "3     0     0     0     0     0     0     0     0     0  \n",
       "4     0     0     0     0     0     0     0     0     0  \n",
       "\n",
       "[5 rows x 1623 columns]"
      ]
     },
     "execution_count": 2,
     "metadata": {},
     "output_type": "execute_result"
    }
   ],
   "source": [
    "#import data\n",
    "df=pd.read_table(\"/Users/daigofujiwara/Documents/授業資料/論理生命学/MatrixFactorization/movie.txt\",header=None,sep=\" \")\n",
    "print(\"(row,col)=\",df.shape)\n",
    "df.head()"
   ]
  },
  {
   "cell_type": "markdown",
   "metadata": {},
   "source": []
  },
  {
   "cell_type": "markdown",
   "metadata": {},
   "source": [
    "\n",
    "## 2. Formulation of Method1\n",
    "\n",
    "I will explain a formulation of the recommendation problem and a solution using matrix factorization, using the following notations: $r_{ij}$ is the rating score of item i given by user j. $\\Omega$ is the set of the indices of observed ratings, i.e. $r_{ij}$ is observed if $(i,j)\\in\\Omega$\n",
    "\n",
    "\n",
    "First, in recomendation, usually the size of dimension and sample data is large, and rating score matrix is sparse, so we need feature reduction.Feature reduction model is expressed as bellow:\n",
    "$$\n",
    "\\boldsymbol{R}=\\boldsymbol{U}^{T}V\n",
    "$$\n",
    "\n",
    "$$\n",
    "\\{\\boldsymbol{R}\\}_{i j}=r_{i j}, \\boldsymbol{R} \\in \\mathbb{R}^{m \\times n}, \\boldsymbol{U} \\in \\mathbb{R}^{k \\times m}, \\boldsymbol{V} \\in \\mathbb{R}^{k \\times n}, \\min (m, n) \\geq k\n",
    "$$\n",
    "\n",
    "Then naively it is come up with the idea of interpretting un-observed value to zero, and by SVD, reducing dimension of rating score matrix. However, in this idea, we thought un-observed value of rating score as zero, but in fact, un-obseved value is just ”un-observed” and not neessarily zero, so this model is not better.\n",
    "\n",
    "Alternartively, there is some way filling un-observed value by regression or minimizing error.\n",
    "In this method, U,V is determined based on only observed score, minimizing this loss\n",
    "function:\n",
    "\n",
    "$$\n",
    "\\min _{U, V}L=\\min _{U, V} \\left(\\sum_{(i, j) \\in \\Omega}\\left(r_{i j}-\\boldsymbol{u}_{i}^{\\top} \\boldsymbol{v}_{j}\\right)^{2}+\\lambda_{1}\\|\\boldsymbol{U}\\|_{F}^{2}+\\lambda_{2}\\|\\boldsymbol{V}\\|_{F}^{2}\\right)\n",
    "$$\n",
    "\n",
    "where, \n",
    "$$\n",
    "\\boldsymbol{U}=\\left[\\boldsymbol{u}_1,\\boldsymbol{u}_2,\\dots ,\\boldsymbol{u}_m\\right]\\\\\n",
    "\\boldsymbol{V}=\\left[\\boldsymbol{v}_1,\\boldsymbol{v}_2,\\dots ,\\boldsymbol{v}_n\\right]\n",
    "$$\n",
    "\n",
    "Minimizing this loss is done by these alternative update.\n",
    "\n",
    "\n",
    "$$\n",
    "\\boldsymbol{u}_{i} =\\left(\\sum_{(i, j) \\in \\Omega} \\boldsymbol{v}_{j} \\boldsymbol{v}_{j}^{\\top}+\\lambda_{1} \\boldsymbol{I}\\right)^{-1} \\sum_{(i, j) \\in \\Omega} r_{i j} \\boldsymbol{v}_{j} \\tag{1}$$ $$ \\boldsymbol{v}_{j} =\\left(\\sum_{(i, j) \\in \\Omega} \\boldsymbol{u}_{i} \\boldsymbol{u}_{i}^{\\top}+\\lambda_{2} \\boldsymbol{I}\\right)^{-1} \\sum_{(i, j) \\in \\Omega} r_{i j} \\boldsymbol{u}_{i} \\tag{2}\n",
    "$$\n",
    "\n",
    "Each update formula is derived from Loss's partial differential.\n",
    "$$\n",
    "L=\\sum_{(i, j) \\in \\Omega}\\left(r_{i j}-\\boldsymbol{u}_{i}^{\\top} \\boldsymbol{v}_{j}\\right)^{2}+\\lambda_{1}\\|\\boldsymbol{U}\\|_{F}^{2}+\\lambda_{2}\\|\\boldsymbol{V}\\|_{F}^{2}\\\\\n",
    "$$\n",
    "$$\n",
    "\\frac{\\partial L}{\\partial \\boldsymbol u_i}=2\\sum_{(i, j) \\in \\Omega}(\\boldsymbol u^T_i \\boldsymbol v_j-r_{ij})\\boldsymbol v_j\n",
    "+2\\lambda_1 \\boldsymbol u_i=0\\\\\n",
    "\\therefore \\left(\\sum_{(i, j) \\in \\Omega}\\boldsymbol v_j \\boldsymbol v_j^T+\\lambda_1 \\boldsymbol I\\right)\\boldsymbol u_i\n",
    "=\\sum_{(i, j) \\in \\Omega}r_{ij}\\boldsymbol v_j$$$$\n",
    "\\therefore \\boldsymbol{u}_{i} =\\left(\\sum_{(i, j) \\in \\Omega} \\boldsymbol{v}_{j} \\boldsymbol{v}_{j}^{\\top}+\\lambda_{1} \\boldsymbol{I}\\right)^{-1} \\sum_{(i, j) \\in \\Omega} r_{i j} \\boldsymbol{v}_{j} \\tag{1}\n",
    "$$\n",
    "\n",
    "And as well, from $\\frac{\\partial L}{\\partial \\boldsymbol v_j}$, formula (2) is derived."
   ]
  },
  {
   "cell_type": "code",
   "execution_count": 4,
   "metadata": {},
   "outputs": [],
   "source": [
    "Rmasked = df.values.copy()\n",
    "Rmasked = Rmasked.T\n",
    "Rmasked[:100,:100]=np.zeros((100,100))\n",
    "\n",
    "class MatrixFactorization:\n",
    "    def __init__(self,R):\n",
    "        self.R=R.copy()\n",
    "        #parameter\n",
    "        self.M=R.shape[0]\n",
    "        self.N=R.shape[1]\n",
    "        ##initializing matrix\n",
    "        self.R_exist = np.where(R!=0)\n",
    "        self.R_exist = np.array([self.R_exist[0],self.R_exist[1]])\n",
    "        \n",
    "    def fit(self,K,noprint=1):\n",
    "        ##initializing matrix            \n",
    "        U=np.random.rand(self.M,K)\n",
    "        V=np.random.rand(self.N,K)\n",
    "        #calculate loss\n",
    "        loss=np.inf\n",
    "        ##regularization coefficient\n",
    "        lambda0=1\n",
    "        lambda1=lambda0\n",
    "        lambda2=self.M/self.N*lambda0\n",
    "        \n",
    "        self.Loss=[]\n",
    "        \n",
    "        k=0\n",
    "        if not noprint:\n",
    "            print(\"loss=\")\n",
    "        while 1:\n",
    "            for i in range(self.M):\n",
    "                #extract observed area in i row \n",
    "                arr=self.R_exist[1,(self.R_exist==i)[0]]\n",
    "                temp1=np.zeros((K,K))\n",
    "                temp2=np.zeros(K)\n",
    "                for j in arr:\n",
    "                    temp1=temp1+np.dot(V[j].reshape(V[j].shape[0],1),V[j].reshape(1,V[j].shape[0]))\n",
    "                    temp2=temp2+self.R[i,j]*V[j]\n",
    "                inv=np.linalg.inv(temp1+lambda1*np.eye(K))\n",
    "                U[i]=np.dot(temp2,inv)\n",
    "\n",
    "            temp3=0\n",
    "\n",
    "            for j in range(self.N):\n",
    "                #extract observed area in j colm\n",
    "                arr=self.R_exist[0,(self.R_exist==j)[1]]\n",
    "                temp1=np.zeros((K,K))\n",
    "                temp2=np.zeros(K)\n",
    "                for i in arr:\n",
    "                    temp1=temp1+np.dot(U[i].reshape(U[i].shape[0],1),U[i].reshape(1,U[i].shape[0]))\n",
    "                    temp2=temp2+self.R[i,j]*U[i]\n",
    "                    #calculate loss\n",
    "                    temp3+=np.square(self.R[i,j]-np.dot(U[i],V[j]))\n",
    "                inv=np.linalg.inv(temp1+lambda2*np.eye(K))\n",
    "                V[j]=np.dot(temp2,inv)\n",
    "\n",
    "            pre=loss\n",
    "\n",
    "            loss=temp3+lambda1*np.linalg.norm(U,ord=2)*np.linalg.norm(U,ord=2) \\ \n",
    "            +lambda2*np.linalg.norm(V,ord=2)*lambda2*np.linalg.norm(V,ord=2)\n",
    "\n",
    "            self.Loss.append([loss,k])\n",
    "            \n",
    "            if pre-loss<0.1 or k>1000:\n",
    "                break\n",
    "            if not noprint:\n",
    "                if not (k%10):\n",
    "                    print(loss,\", iter=\",k)\n",
    "            k+=1\n",
    "        \n",
    "        if not noprint:\n",
    "            print(\"finished !\")\n",
    "        self.U=U\n",
    "        self.V=V\n",
    "        self.Loss=np.array(self.Loss)\n",
    "        self.Loss=self.Loss.T\n",
    "        self.Rest=np.dot(U,V.T)\n",
    "        return self.Rest"
   ]
  },
  {
   "cell_type": "markdown",
   "metadata": {},
   "source": [
    "\n",
    "\n",
    "\n",
    "\n",
    "\n",
    "\n",
    "\n",
    "\n",
    "\n",
    "\n",
    "\n",
    "\n",
    "\n",
    "\n",
    "\n",
    "\n",
    "\n",
    "\n",
    "\n",
    "\n",
    "\n",
    "\n",
    "\n",
    "\n",
    "\n",
    "\n",
    "\n",
    "\n",
    "\n",
    "\n",
    "\n",
    "\n",
    "\n",
    "\n",
    "\n",
    "\n"
   ]
  },
  {
   "cell_type": "markdown",
   "metadata": {},
   "source": [
    "## 3. Implementation"
   ]
  },
  {
   "cell_type": "markdown",
   "metadata": {},
   "source": [
    "## 3.1 Confirmation the decrease of loss\n",
    "\n",
    "Confirming the decrease of loss, using reduced dimension k=5 model and showing the graph of loss decrease for each iteration step."
   ]
  },
  {
   "cell_type": "code",
   "execution_count": 5,
   "metadata": {},
   "outputs": [
    {
     "name": "stdout",
     "output_type": "stream",
     "text": [
      "loss=\n",
      "187724.70798117723 , iter= 0\n",
      "73837.51096647854 , iter= 10\n",
      "72980.55351907827 , iter= 20\n",
      "72805.70560859605 , iter= 30\n",
      "72780.94787997485 , iter= 40\n",
      "finished !\n"
     ]
    }
   ],
   "source": [
    "mf=MatrixFactorization(Rmasked)\n",
    "Rest=mf.fit(5,noprint=0)"
   ]
  },
  {
   "cell_type": "code",
   "execution_count": 6,
   "metadata": {},
   "outputs": [
    {
     "data": {
      "image/png": "[encoded data removed]",
      "text/plain": [
       "<Figure size 432x288 with 1 Axes>"
      ]
     },
     "metadata": {
      "needs_background": "light"
     },
     "output_type": "display_data"
    }
   ],
   "source": [
    "plt.title(\"fig1 Decrease of Loss\")\n",
    "plt.plot(mf.Loss[1],mf.Loss[0])\n",
    "plt.xlabel(\"iteration step\")\n",
    "plt.xlim(0,20)\n",
    "plt.ylabel(\"Loss\")\n",
    "plt.show()"
   ]
  },
  {
   "cell_type": "markdown",
   "metadata": {},
   "source": [
    "## 3.2 Evaluation\n",
    "\n",
    "Hiding upper left 100x100 rating data, I estimate the rating matrix by ALS.\n",
    "After that, revealing the real value, I compare estimation value and real value. I use RMSE as the evaluation criteria.\n",
    "\n",
    "$$\n",
    "RMSE=\\sqrt{\\frac{1}{N_\\Omega}\\sum_{(i, j) \\in \\Omega}\\left(r_{i j}-\\boldsymbol{u}_{i}^{\\top} \\boldsymbol{v}_{j}\\right)^{2}}\n",
    "$$\n",
    "\n",
    "$N_\\Omega$ is the number of elements of $\\Omega$. $\\Omega$ is now limited to upper left 100x100 area.\n",
    "\n",
    "And I compare the RMSEs of our model and Ramdom model."
   ]
  },
  {
   "cell_type": "markdown",
   "metadata": {},
   "source": [
    "### (model dimension) k=5 method1 model\n",
    "\n",
    "In thi part, we use our matrix factorization model as k=5 and calculate RMSE."
   ]
  },
  {
   "cell_type": "code",
   "execution_count": 7,
   "metadata": {},
   "outputs": [
    {
     "data": {
      "text/plain": [
       "1.1292267112130494"
      ]
     },
     "execution_count": 7,
     "metadata": {},
     "output_type": "execute_result"
    }
   ],
   "source": [
    "RealR=df.values.copy()\n",
    "RealR=RealR.T\n",
    "RealR=RealR[:100,:100]\n",
    "R_estimate=mf.Rest[:100,:100]\n",
    "\n",
    "R_exist100 = np.where(RealR!=0)\n",
    "R_exist100 = np.array([R_exist100[0],R_exist100[1]])\n",
    "\n",
    "err=0\n",
    "\n",
    "for i in range(100):\n",
    "        arr=R_exist100[1,(R_exist100==i)[0]]\n",
    "        for j in arr:\n",
    "            err+=np.square(RealR[i,j]-R_estimate[i,j])\n",
    "            \n",
    "MSE=err/R_exist100.shape[1]\n",
    "RMSE=np.sqrt(MSE)\n",
    "RMSE"
   ]
  },
  {
   "cell_type": "markdown",
   "metadata": {},
   "source": [
    "RMSE is about 1.129"
   ]
  },
  {
   "cell_type": "markdown",
   "metadata": {},
   "source": [
    "### Random model\n",
    "\n",
    " In this model,it is used uniform distribution in the section $[1,6]$ for each value of estimation matrix. "
   ]
  },
  {
   "cell_type": "code",
   "execution_count": 8,
   "metadata": {},
   "outputs": [
    {
     "data": {
      "text/plain": [
       "2.193987378539665"
      ]
     },
     "execution_count": 8,
     "metadata": {},
     "output_type": "execute_result"
    }
   ],
   "source": [
    "R_uni=1+5*np.random.rand(100,100)\n",
    "err=0\n",
    "for i in range(100):\n",
    "        arr=R_exist100[1,(R_exist100==i)[0]]\n",
    "        for j in arr:\n",
    "            err+=np.square(RealR[i,j]-R_uni[i,j])\n",
    "            \n",
    "MSE_uni=err/R_exist100.shape[1]\n",
    "RMSE_uni=np.sqrt(MSE_uni)\n",
    "RMSE_uni"
   ]
  },
  {
   "cell_type": "markdown",
   "metadata": {},
   "source": [
    "RMSE is about 2.194"
   ]
  },
  {
   "cell_type": "markdown",
   "metadata": {},
   "source": [
    "### small conlusion\n",
    "It is concluded that this method is superior to random estimation."
   ]
  },
  {
   "cell_type": "markdown",
   "metadata": {},
   "source": [
    "## 3.3 Transition of each K\n",
    "\n",
    "I made some models where model dimesion $k$ is deifferent, observed the transition for each $k$, and estimte the best model. "
   ]
  },
  {
   "cell_type": "code",
   "execution_count": 9,
   "metadata": {},
   "outputs": [],
   "source": [
    "RealR=df.values.copy()\n",
    "RealR=RealR.T\n",
    "RealR=RealR[:100,:100]\n",
    "R_exist100 = np.where(RealR!=0)\n",
    "R_exist100 = np.array([R_exist100[0],R_exist100[1]])\n",
    "Ks=list([1,2,3,4,5,6,7,8,9,10])\n",
    "Rests=[]"
   ]
  },
  {
   "cell_type": "code",
   "execution_count": 10,
   "metadata": {},
   "outputs": [],
   "source": [
    "for k in Ks:\n",
    "    Rests.append(mf.fit(k))"
   ]
  },
  {
   "cell_type": "code",
   "execution_count": 11,
   "metadata": {},
   "outputs": [],
   "source": [
    "MSEs=np.array([])\n",
    "\n",
    "for k in range(len(Rests)):\n",
    "    err=0\n",
    "\n",
    "    for i in range(100):\n",
    "            arr=R_exist100[1,(R_exist100==i)[0]]\n",
    "            for j in arr:\n",
    "                err+=np.square(RealR[i,j]-Rests[k][i,j])\n",
    "\n",
    "    MSEs=np.append(MSEs,err/R_exist100.shape[1])\n",
    "\n",
    "RMSEs=np.sqrt(MSEs)"
   ]
  },
  {
   "cell_type": "code",
   "execution_count": 12,
   "metadata": {},
   "outputs": [
    {
     "data": {
      "image/png": "[encoded data removed]",
      "text/plain": [
       "<Figure size 432x288 with 1 Axes>"
      ]
     },
     "metadata": {
      "needs_background": "light"
     },
     "output_type": "display_data"
    }
   ],
   "source": [
    "plt.title(\"fig2 RMSE for each K\")\n",
    "plt.plot(Ks,RMSEs,\"o-\")\n",
    "plt.xlabel(\"Model dimesion K\")\n",
    "plt.ylabel(\"RMSE\")\n",
    "plt.show()"
   ]
  },
  {
   "cell_type": "markdown",
   "metadata": {},
   "source": [
    "### small conclusion"
   ]
  },
  {
   "cell_type": "markdown",
   "metadata": {},
   "source": [
    "The best model is $k=3$ or $k=5$ model. And too large $k$ makes the acuracy of model worse. It is very suprising because naively we think that more degree of freedom can make RMSE smaller. "
   ]
  },
  {
   "cell_type": "markdown",
   "metadata": {},
   "source": [
    "Then, I will also show the acuracy (RMSE) for the trainnig data. In other words,\n",
    "$$\n",
    "\\overline{RMSE}=\\sqrt{\\frac{1}{N_\\overline\\Omega}\\sum_{(i, j) \\in \\overline\\Omega}\\left(r_{i j}-\\boldsymbol{u}_{i}^{\\top} \\boldsymbol{v}_{j}\\right)^{2}}\n",
    "$$"
   ]
  },
  {
   "cell_type": "code",
   "execution_count": 13,
   "metadata": {},
   "outputs": [],
   "source": [
    "RealR_=df.values.copy()\n",
    "RealR_=RealR_.T\n",
    "MSEs_=np.array([])\n",
    "\n",
    "for k in range(len(Rests)):\n",
    "    err=0\n",
    "\n",
    "    for i in range(mf.M):\n",
    "            arr=mf.R_exist[1,(mf.R_exist==i)[0]]\n",
    "            for j in arr:\n",
    "                err+=np.square(RealR_[i,j]-Rests[k][i,j])\n",
    "                \n",
    "    MSEs_=np.append(MSEs_,err/mf.R_exist.shape[1])\n",
    "                \n",
    "MSEs_=(MSEs_*mf.R_exist.shape[1]-MSEs*R_exist100.shape[1])/(mf.R_exist.shape[1]-R_exist100.shape[1])\n",
    "\n",
    "RMSEs_=np.sqrt(MSEs_)"
   ]
  },
  {
   "cell_type": "code",
   "execution_count": 16,
   "metadata": {
    "scrolled": true
   },
   "outputs": [
    {
     "data": {
      "image/png": "[encoded data removed]",
      "text/plain": [
       "<Figure size 432x288 with 1 Axes>"
      ]
     },
     "metadata": {
      "needs_background": "light"
     },
     "output_type": "display_data"
    }
   ],
   "source": [
    "plt.title(\"fig3 RMSE of trainnig data each K\")\n",
    "plt.plot(Ks,RMSEs_,\"o-\")\n",
    "plt.xlabel(\"Model dimesion K\")\n",
    "plt.ylabel(\"RMSE for trainnig data\")\n",
    "plt.show()"
   ]
  },
  {
   "cell_type": "markdown",
   "metadata": {},
   "source": [
    "Seeing fig3, this RMSE for trainnnig data is smaller when the model dimension $k$ is larger, but RMSE for test data is not. It is supposed to be because too much degree of freedom cause overfitting."
   ]
  }
 ],
 "metadata": {
  "kernelspec": {
   "display_name": "Python 3",
   "language": "python",
   "name": "python3"
  },
  "language_info": {
   "codemirror_mode": {
    "name": "ipython",
    "version": 3
   },
   "file_extension": ".py",
   "mimetype": "text/x-python",
   "name": "python",
   "nbconvert_exporter": "python",
   "pygments_lexer": "ipython3",
   "version": "3.7.3"
  }
 },
 "nbformat": 4,
 "nbformat_minor": 2
}
